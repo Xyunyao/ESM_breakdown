{
 "cells": [
  {
   "cell_type": "markdown",
   "metadata": {},
   "source": [
    "# Breakdown overview\n",
    "1. subject: ESM_inverse_fold (https://github.com/facebookresearch/esm/tree/main/esm/inverse_folding)\n",
    "2. aim of ESM_inverse_fold: conditon on backbone structure to recover sequence (software with similar functionality: ProteinMPNN)  \n",
    "3. Overall architecture:  \n",
    "Geometric GVP-GNN as initial layers, followed by\n",
    "sequence-to-sequence Transformer encoder and decoder\n"
   ]
  },
  {
   "cell_type": "markdown",
   "metadata": {},
   "source": [
    "## Geometric GVP_GNN layer (representation layer)\n",
    "1. feature.py (take cooridnates to caluclate features (VECOTR OR SCALER))    \n",
    "1.1 _diheadral (omega, psi, phi/ cos/sin  scaler)  \n",
    "1.2 _orientation (CA-CA(i-1/i+1),  Vector)   \n",
    "1.3 _sidechain  (calcualte CA-CB vector based on CA N CO, vector)  \n",
    "1.4 _dist (calculate pair distance ), output k-neasrt neighbour ( dist (B,l,k),   E_idx (B,L,K), cooridnate_mask (B,L,K, whether the distance is calculable,such as   masked), residue_mask(B,L,K, whehter it is padding))      \n",
    "1.5 _position_embedding: sinusoidual postion embedding  \n",
    "1.6 get_node_feature: combine 1.1 and 1.2 1.3   \n",
    "1.7 get_edge_feature: basically combine 1.4 and 1.5 (details are bit complex and   illustrated later) \n",
    "\n",
    "1.8 GVPGraphEmbedding: call 1.6 and 1.7 to get feature, use a GVP layer to embed these features \n",
    "\n",
    "2. gvp_module.py\n",
    "2.1 basic model to handle mixture of vector scaler info and update embedding by passing info betwen vector and scaler   \n",
    "vector's norm is concat to scaler to pass info  \n",
    "scaler is used as gating to pass info  \n",
    "![GVP](GVP_cartoon.png)\n",
    "\n",
    "2.2 Message passing with GVP (GVP-GNN)\n",
    "![GVP_GNN_1](GVP_GNN_1.png)\n",
    "![GVP_GNN_2](GVP_GNN_2.png)"
   ]
  },
  {
   "cell_type": "markdown",
   "metadata": {},
   "source": []
  }
 ],
 "metadata": {
  "language_info": {
   "name": "python"
  }
 },
 "nbformat": 4,
 "nbformat_minor": 2
}
