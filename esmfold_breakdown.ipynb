{
 "cells": [
  {
   "cell_type": "markdown",
   "metadata": {},
   "source": [
    "# ESMFold breakdown\n",
    "It took ouput from ESM (sequence reperesentation, attention matrix) as input\n",
    "into folding trunk then structure module to predict structure.  \n",
    "\n",
    "utility modules (misc.py)\n",
    "read seqence module (encode_sequence): input sequence, add chain_linker( optional, default 'G'*25), add residue_index_offset (add a jump in index if in different chain)\n",
    "return:encoded (residue token), residx, linker_mask, chain_index\n",
    "\n",
    "read seqence in batch \n",
    "\n",
    "output_to_pdb: input: output from model (in dict format) output: pdb files\n",
    "\n",
    "Attention: to calcualte attention in Transformer\n",
    "\n",
    "Dropout: \n",
    "\n",
    "SequencToPair:\n",
    "\n",
    "PairToSequence:\n",
    "\n",
    "\n",
    "\n"
   ]
  },
  {
   "cell_type": "markdown",
   "metadata": {},
   "source": [
    "## This is how differnt ESM model get loaded into ESMFold model"
   ]
  },
  {
   "cell_type": "code",
   "execution_count": 1,
   "metadata": {},
   "outputs": [],
   "source": [
    "def _load_model(model_name):\n",
    "    if model_name.endswith(\".pt\"):  # local, treat as filepath\n",
    "        model_path = Path(model_name)\n",
    "        model_data = torch.load(str(model_path), map_location=\"cpu\")\n",
    "    else:  # load from hub\n",
    "        url = f\"https://dl.fbaipublicfiles.com/fair-esm/models/{model_name}.pt\"\n",
    "        model_data = torch.hub.load_state_dict_from_url(url, progress=False, map_location=\"cpu\")\n",
    "\n",
    "    cfg = model_data[\"cfg\"][\"model\"]\n",
    "    model_state = model_data[\"model\"]  # contain weights and bais\n",
    "    model = ESMFold(esmfold_config=cfg)\n",
    "\n",
    "    expected_keys = set(model.state_dict().keys())\n",
    "    found_keys = set(model_state.keys())\n",
    "\n",
    "    missing_essential_keys = []  # make sure keys are compatiable before load parameters\n",
    "    for missing_key in expected_keys - found_keys:\n",
    "        if not missing_key.startswith(\"esm.\"):\n",
    "            missing_essential_keys.append(missing_key)\n",
    "\n",
    "    if missing_essential_keys:\n",
    "        raise RuntimeError(f\"Keys '{', '.join(missing_essential_keys)}' are missing.\")\n",
    "\n",
    "    model.load_state_dict(model_state, strict=False) # \n",
    "\n",
    "    return model"
   ]
  },
  {
   "cell_type": "markdown",
   "metadata": {},
   "source": []
  }
 ],
 "metadata": {
  "kernelspec": {
   "display_name": "pytorch(env)",
   "language": "python",
   "name": "pytroch_kern"
  },
  "language_info": {
   "codemirror_mode": {
    "name": "ipython",
    "version": 3
   },
   "file_extension": ".py",
   "mimetype": "text/x-python",
   "name": "python",
   "nbconvert_exporter": "python",
   "pygments_lexer": "ipython3",
   "version": "3.8.18"
  }
 },
 "nbformat": 4,
 "nbformat_minor": 2
}
