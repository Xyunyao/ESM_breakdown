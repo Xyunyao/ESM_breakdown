{
 "cells": [
  {
   "cell_type": "markdown",
   "metadata": {},
   "source": [
    "# ESMFold breakdown\n",
    "It took ouput from ESM (sequence reperesentation, attention matrix) as input\n",
    "into folding trunk then structure module to predict structure.  \n",
    "\n",
    "\n",
    "\n"
   ]
  }
 ],
 "metadata": {
  "language_info": {
   "name": "python"
  }
 },
 "nbformat": 4,
 "nbformat_minor": 2
}
