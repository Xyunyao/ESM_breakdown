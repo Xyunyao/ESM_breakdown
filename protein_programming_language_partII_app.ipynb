{
 "cells": [
  {
   "cell_type": "markdown",
   "metadata": {},
   "source": [
    "# utility of protein programming language\n",
    "\n",
    "read paper:\n",
    "\n",
    "clever idea to use it optimiziation process as a generative process that can be conditioned on many constraints \n",
    "\n",
    "Example: \n",
    "1. Hullacinating: simply generate protein with high Fitness score\n",
    "2. condition on secondary strucutre \n",
    "3. scaffolding: keep binding site residue (using full atoms RMSD penalty) to build scaffold\n",
    "4. generate new seq based on backbone (using backbone RMSD penalty), similar to MPNN\n",
    "..."
   ]
  },
  {
   "cell_type": "code",
   "execution_count": null,
   "metadata": {
    "vscode": {
     "languageId": "plaintext"
    }
   },
   "outputs": [],
   "source": [
    "# example 1. \n"
   ]
  }
 ],
 "metadata": {
  "language_info": {
   "name": "python"
  }
 },
 "nbformat": 4,
 "nbformat_minor": 2
}
